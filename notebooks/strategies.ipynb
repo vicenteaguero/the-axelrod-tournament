{
 "cells": [
  {
   "cell_type": "code",
   "execution_count": 10,
   "metadata": {},
   "outputs": [],
   "source": [
    "class Strategy:\n",
    "    \n",
    "    def __init__(\n",
    "        self,\n",
    "        name: str | None = None,\n",
    "        initial_moves: int | list[int] | None = None,\n",
    "        randomness: tuple[float, int] | list[tuple[float, int]] | None = None,\n",
    "        forgiveness: float | list[float] | None = None,\n",
    "        retaliation: list[tuple[int, int, int | list[int]]] = None,\n",
    "    ):\n",
    "        self._set_name(name)\n",
    "        self._set_initial_moves(initial_moves)\n",
    "        self._set_randomness(randomness)\n",
    "        self._set_forgiveness(forgiveness)\n",
    "        self._set_retaliation(retaliation)\n",
    "        \n",
    "    def _set_name(self, name: str | None):\n",
    "        pass\n",
    "    \n",
    "    def _set_initial_moves(self, initial_moves: int | list[int] | None):\n",
    "        pass\n",
    "    \n",
    "    def _set_randomness(self, randomness: tuple[float, int] | list[tuple[float, int]] | None):\n",
    "        pass\n",
    "    \n",
    "    def _set_forgiveness(self, forgiveness: float | list[float] | None):\n",
    "        pass\n",
    "    \n",
    "    def _set_retaliation(self, retaliation: list[tuple[int, int, int | list[int]]]):\n",
    "        pass"
   ]
  },
  {
   "cell_type": "code",
   "execution_count": 12,
   "metadata": {},
   "outputs": [
    {
     "data": {
      "text/plain": [
       "<__main__.Strategy at 0x759855304170>"
      ]
     },
     "execution_count": 12,
     "metadata": {},
     "output_type": "execute_result"
    }
   ],
   "source": [
    "Strategy()"
   ]
  },
  {
   "cell_type": "code",
   "execution_count": null,
   "metadata": {},
   "outputs": [],
   "source": []
  }
 ],
 "metadata": {
  "kernelspec": {
   "display_name": ".venv (3.12.3)",
   "language": "python",
   "name": "python3"
  },
  "language_info": {
   "codemirror_mode": {
    "name": "ipython",
    "version": 3
   },
   "file_extension": ".py",
   "mimetype": "text/x-python",
   "name": "python",
   "nbconvert_exporter": "python",
   "pygments_lexer": "ipython3",
   "version": "3.12.3"
  }
 },
 "nbformat": 4,
 "nbformat_minor": 2
}
